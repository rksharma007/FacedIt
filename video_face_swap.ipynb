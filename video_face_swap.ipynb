{
 "cells": [
  {
   "cell_type": "markdown",
   "id": "9c174b51",
   "metadata": {},
   "source": [
    "# 🤖🎥 FacedIt  \n",
    "Welcome to the **FacedIt Face Swapper Notebook**!  \n",
    "This notebook uses face detection and image processing to **swap faces in a video**.  \n",
    "\n",
    "> 📽️ Input: Any video with a visible face  \n",
    "> 🔄 Output: A new video with a different face  \n",
    "---\n"
   ]
  },
  {
   "cell_type": "markdown",
   "id": "bef88ea4",
   "metadata": {},
   "source": [
    "## 📦 Step 1: Install & Import Libraries  \n",
    "> ⚙️ Setting up the environment...\n"
   ]
  },
  {
   "cell_type": "code",
   "execution_count": 1,
   "metadata": {
    "colab": {
     "base_uri": "https://localhost:8080/"
    },
    "id": "RDrC6oDCv3yE",
    "outputId": "6a42c722-8ebd-47fe-ab05-b6d6d183113a"
   },
   "outputs": [
    {
     "name": "stdout",
     "output_type": "stream",
     "text": [
      "Collecting insightface\n",
      "  Downloading insightface-0.7.3.tar.gz (439 kB)\n",
      "\u001b[?25l     \u001b[90m━━━━━━━━━━━━━━━━━━━━━━━━━━━━━━━━━━━━━━━━\u001b[0m \u001b[32m0.0/439.5 kB\u001b[0m \u001b[31m?\u001b[0m eta \u001b[36m-:--:--\u001b[0m\r\n",
      "\u001b[2K     \u001b[90m━━━━━━━━━━━━━━━━━━━━━━━━━━━━━━━━━━━━━━\u001b[0m \u001b[32m439.5/439.5 kB\u001b[0m \u001b[31m27.3 MB/s\u001b[0m eta \u001b[36m0:00:00\u001b[0m\n",
      "\u001b[?25h  Installing build dependencies ... \u001b[?25l\u001b[?25hdone\n",
      "  Getting requirements to build wheel ... \u001b[?25l\u001b[?25hdone\n",
      "  Preparing metadata (pyproject.toml) ... \u001b[?25l\u001b[?25hdone\n",
      "Requirement already satisfied: numpy in /usr/local/lib/python3.11/dist-packages (from insightface) (2.0.2)\n",
      "Collecting onnx (from insightface)\n",
      "  Downloading onnx-1.18.0-cp311-cp311-manylinux_2_17_x86_64.manylinux2014_x86_64.whl.metadata (6.9 kB)\n",
      "Requirement already satisfied: tqdm in /usr/local/lib/python3.11/dist-packages (from insightface) (4.67.1)\n",
      "Requirement already satisfied: requests in /usr/local/lib/python3.11/dist-packages (from insightface) (2.32.3)\n",
      "Requirement already satisfied: matplotlib in /usr/local/lib/python3.11/dist-packages (from insightface) (3.10.0)\n",
      "Requirement already satisfied: Pillow in /usr/local/lib/python3.11/dist-packages (from insightface) (11.2.1)\n",
      "Requirement already satisfied: scipy in /usr/local/lib/python3.11/dist-packages (from insightface) (1.15.3)\n",
      "Requirement already satisfied: scikit-learn in /usr/local/lib/python3.11/dist-packages (from insightface) (1.6.1)\n",
      "Requirement already satisfied: scikit-image in /usr/local/lib/python3.11/dist-packages (from insightface) (0.25.2)\n",
      "Requirement already satisfied: easydict in /usr/local/lib/python3.11/dist-packages (from insightface) (1.13)\n",
      "Requirement already satisfied: cython in /usr/local/lib/python3.11/dist-packages (from insightface) (3.0.12)\n",
      "Requirement already satisfied: albumentations in /usr/local/lib/python3.11/dist-packages (from insightface) (2.0.7)\n",
      "Requirement already satisfied: prettytable in /usr/local/lib/python3.11/dist-packages (from insightface) (3.16.0)\n",
      "Requirement already satisfied: PyYAML in /usr/local/lib/python3.11/dist-packages (from albumentations->insightface) (6.0.2)\n",
      "Requirement already satisfied: pydantic>=2.9.2 in /usr/local/lib/python3.11/dist-packages (from albumentations->insightface) (2.11.4)\n",
      "Requirement already satisfied: albucore==0.0.24 in /usr/local/lib/python3.11/dist-packages (from albumentations->insightface) (0.0.24)\n",
      "Requirement already satisfied: opencv-python-headless>=4.9.0.80 in /usr/local/lib/python3.11/dist-packages (from albumentations->insightface) (4.11.0.86)\n",
      "Requirement already satisfied: stringzilla>=3.10.4 in /usr/local/lib/python3.11/dist-packages (from albucore==0.0.24->albumentations->insightface) (3.12.5)\n",
      "Requirement already satisfied: simsimd>=5.9.2 in /usr/local/lib/python3.11/dist-packages (from albucore==0.0.24->albumentations->insightface) (6.2.1)\n",
      "Requirement already satisfied: contourpy>=1.0.1 in /usr/local/lib/python3.11/dist-packages (from matplotlib->insightface) (1.3.2)\n",
      "Requirement already satisfied: cycler>=0.10 in /usr/local/lib/python3.11/dist-packages (from matplotlib->insightface) (0.12.1)\n",
      "Requirement already satisfied: fonttools>=4.22.0 in /usr/local/lib/python3.11/dist-packages (from matplotlib->insightface) (4.58.0)\n",
      "Requirement already satisfied: kiwisolver>=1.3.1 in /usr/local/lib/python3.11/dist-packages (from matplotlib->insightface) (1.4.8)\n",
      "Requirement already satisfied: packaging>=20.0 in /usr/local/lib/python3.11/dist-packages (from matplotlib->insightface) (24.2)\n",
      "Requirement already satisfied: pyparsing>=2.3.1 in /usr/local/lib/python3.11/dist-packages (from matplotlib->insightface) (3.2.3)\n",
      "Requirement already satisfied: python-dateutil>=2.7 in /usr/local/lib/python3.11/dist-packages (from matplotlib->insightface) (2.9.0.post0)\n",
      "Requirement already satisfied: protobuf>=4.25.1 in /usr/local/lib/python3.11/dist-packages (from onnx->insightface) (5.29.4)\n",
      "Requirement already satisfied: typing_extensions>=4.7.1 in /usr/local/lib/python3.11/dist-packages (from onnx->insightface) (4.13.2)\n",
      "Requirement already satisfied: wcwidth in /usr/local/lib/python3.11/dist-packages (from prettytable->insightface) (0.2.13)\n",
      "Requirement already satisfied: charset-normalizer<4,>=2 in /usr/local/lib/python3.11/dist-packages (from requests->insightface) (3.4.2)\n",
      "Requirement already satisfied: idna<4,>=2.5 in /usr/local/lib/python3.11/dist-packages (from requests->insightface) (3.10)\n",
      "Requirement already satisfied: urllib3<3,>=1.21.1 in /usr/local/lib/python3.11/dist-packages (from requests->insightface) (2.4.0)\n",
      "Requirement already satisfied: certifi>=2017.4.17 in /usr/local/lib/python3.11/dist-packages (from requests->insightface) (2025.4.26)\n",
      "Requirement already satisfied: networkx>=3.0 in /usr/local/lib/python3.11/dist-packages (from scikit-image->insightface) (3.4.2)\n",
      "Requirement already satisfied: imageio!=2.35.0,>=2.33 in /usr/local/lib/python3.11/dist-packages (from scikit-image->insightface) (2.37.0)\n",
      "Requirement already satisfied: tifffile>=2022.8.12 in /usr/local/lib/python3.11/dist-packages (from scikit-image->insightface) (2025.5.21)\n",
      "Requirement already satisfied: lazy-loader>=0.4 in /usr/local/lib/python3.11/dist-packages (from scikit-image->insightface) (0.4)\n",
      "Requirement already satisfied: joblib>=1.2.0 in /usr/local/lib/python3.11/dist-packages (from scikit-learn->insightface) (1.5.0)\n",
      "Requirement already satisfied: threadpoolctl>=3.1.0 in /usr/local/lib/python3.11/dist-packages (from scikit-learn->insightface) (3.6.0)\n",
      "Requirement already satisfied: annotated-types>=0.6.0 in /usr/local/lib/python3.11/dist-packages (from pydantic>=2.9.2->albumentations->insightface) (0.7.0)\n",
      "Requirement already satisfied: pydantic-core==2.33.2 in /usr/local/lib/python3.11/dist-packages (from pydantic>=2.9.2->albumentations->insightface) (2.33.2)\n",
      "Requirement already satisfied: typing-inspection>=0.4.0 in /usr/local/lib/python3.11/dist-packages (from pydantic>=2.9.2->albumentations->insightface) (0.4.1)\n",
      "Requirement already satisfied: six>=1.5 in /usr/local/lib/python3.11/dist-packages (from python-dateutil>=2.7->matplotlib->insightface) (1.17.0)\n",
      "Downloading onnx-1.18.0-cp311-cp311-manylinux_2_17_x86_64.manylinux2014_x86_64.whl (17.6 MB)\n",
      "\u001b[2K   \u001b[90m━━━━━━━━━━━━━━━━━━━━━━━━━━━━━━━━━━━━━━━━\u001b[0m \u001b[32m17.6/17.6 MB\u001b[0m \u001b[31m106.7 MB/s\u001b[0m eta \u001b[36m0:00:00\u001b[0m\n",
      "\u001b[?25hBuilding wheels for collected packages: insightface\n",
      "  Building wheel for insightface (pyproject.toml) ... \u001b[?25l\u001b[?25hdone\n",
      "  Created wheel for insightface: filename=insightface-0.7.3-cp311-cp311-linux_x86_64.whl size=1057646 sha256=8db517f53e305a819cc900bea5ceec6c8035716d9ba2b6b52952f3672bc893b7\n",
      "  Stored in directory: /root/.cache/pip/wheels/27/d8/22/f52d858d16cd06e7b2e6aad34a1777dcfaf000be833bbf8146\n",
      "Successfully built insightface\n",
      "Installing collected packages: onnx, insightface\n",
      "Successfully installed insightface-0.7.3 onnx-1.18.0\n",
      "Collecting onnxruntime-gpu\n",
      "  Downloading onnxruntime_gpu-1.22.0-cp311-cp311-manylinux_2_27_x86_64.manylinux_2_28_x86_64.whl.metadata (4.9 kB)\n",
      "Collecting coloredlogs (from onnxruntime-gpu)\n",
      "  Downloading coloredlogs-15.0.1-py2.py3-none-any.whl.metadata (12 kB)\n",
      "Requirement already satisfied: flatbuffers in /usr/local/lib/python3.11/dist-packages (from onnxruntime-gpu) (25.2.10)\n",
      "Requirement already satisfied: numpy>=1.21.6 in /usr/local/lib/python3.11/dist-packages (from onnxruntime-gpu) (2.0.2)\n",
      "Requirement already satisfied: packaging in /usr/local/lib/python3.11/dist-packages (from onnxruntime-gpu) (24.2)\n",
      "Requirement already satisfied: protobuf in /usr/local/lib/python3.11/dist-packages (from onnxruntime-gpu) (5.29.4)\n",
      "Requirement already satisfied: sympy in /usr/local/lib/python3.11/dist-packages (from onnxruntime-gpu) (1.13.1)\n",
      "Collecting humanfriendly>=9.1 (from coloredlogs->onnxruntime-gpu)\n",
      "  Downloading humanfriendly-10.0-py2.py3-none-any.whl.metadata (9.2 kB)\n",
      "Requirement already satisfied: mpmath<1.4,>=1.1.0 in /usr/local/lib/python3.11/dist-packages (from sympy->onnxruntime-gpu) (1.3.0)\n",
      "Downloading onnxruntime_gpu-1.22.0-cp311-cp311-manylinux_2_27_x86_64.manylinux_2_28_x86_64.whl (283.2 MB)\n",
      "\u001b[2K   \u001b[90m━━━━━━━━━━━━━━━━━━━━━━━━━━━━━━━━━━━━━━━━\u001b[0m \u001b[32m283.2/283.2 MB\u001b[0m \u001b[31m4.7 MB/s\u001b[0m eta \u001b[36m0:00:00\u001b[0m\n",
      "\u001b[?25hDownloading coloredlogs-15.0.1-py2.py3-none-any.whl (46 kB)\n",
      "\u001b[2K   \u001b[90m━━━━━━━━━━━━━━━━━━━━━━━━━━━━━━━━━━━━━━━━\u001b[0m \u001b[32m46.0/46.0 kB\u001b[0m \u001b[31m4.0 MB/s\u001b[0m eta \u001b[36m0:00:00\u001b[0m\n",
      "\u001b[?25hDownloading humanfriendly-10.0-py2.py3-none-any.whl (86 kB)\n",
      "\u001b[2K   \u001b[90m━━━━━━━━━━━━━━━━━━━━━━━━━━━━━━━━━━━━━━━━\u001b[0m \u001b[32m86.8/86.8 kB\u001b[0m \u001b[31m9.4 MB/s\u001b[0m eta \u001b[36m0:00:00\u001b[0m\n",
      "\u001b[?25hInstalling collected packages: humanfriendly, coloredlogs, onnxruntime-gpu\n",
      "Successfully installed coloredlogs-15.0.1 humanfriendly-10.0 onnxruntime-gpu-1.22.0\n"
     ]
    }
   ],
   "source": [
    "!pip install insightface\n",
    "!pip install onnxruntime-gpu"
   ]
  },
  {
   "cell_type": "markdown",
   "id": "d8419e22",
   "metadata": {},
   "source": [
    "## 🧠 Step 2: Load Face & Video  \n",
    "> 🎭 Let's load the face to swap and the video in which we will do the magic!"
   ]
  },
  {
   "cell_type": "code",
   "execution_count": 2,
   "metadata": {
    "colab": {
     "base_uri": "https://localhost:8080/"
    },
    "id": "jV3f0_tvwKq5",
    "outputId": "2217ebb1-2095-4c51-d5d8-2c2c838e9c97"
   },
   "outputs": [
    {
     "name": "stderr",
     "output_type": "stream",
     "text": [
      "/usr/local/lib/python3.11/dist-packages/albumentations/__init__.py:28: UserWarning: A new version of Albumentations is available: '2.0.8' (you have '2.0.7'). Upgrade using: pip install -U albumentations. To disable automatic update checks, set the environment variable NO_ALBUMENTATIONS_UPDATE to 1.\n",
      "  check_for_updates()\n"
     ]
    }
   ],
   "source": [
    "import cv2\n",
    "import os\n",
    "import glob\n",
    "import tkinter as tk\n",
    "from tkinter import filedialog, messagebox, ttk\n",
    "import insightface\n",
    "import matplotlib.image as image\n",
    "import matplotlib.pyplot as plt\n",
    "import numpy as np\n",
    "from insightface.app import FaceAnalysis\n",
    "from insightface.data import get_image as ins_get_image\n",
    "from PIL import Image, ImageTk"
   ]
  },
  {
   "cell_type": "markdown",
   "metadata": {
    "id": "8pz1h8EzwYFv"
   },
   "source": [
    "> Mount Drive and give model path (download the inswapper_128.onnx model)"
   ]
  },
  {
   "cell_type": "code",
   "execution_count": 3,
   "metadata": {
    "colab": {
     "base_uri": "https://localhost:8080/"
    },
    "id": "OvOuB9HAwfSM",
    "outputId": "1af3e10a-7737-4a5b-8caa-edc1308c4a60"
   },
   "outputs": [
    {
     "name": "stdout",
     "output_type": "stream",
     "text": [
      "Drive already mounted at /content/drive; to attempt to forcibly remount, call drive.mount(\"/content/drive\", force_remount=True).\n",
      "download_path: /root/.insightface/models/buffalo_l\n",
      "Downloading /root/.insightface/models/buffalo_l.zip from https://github.com/deepinsight/insightface/releases/download/v0.7/buffalo_l.zip...\n"
     ]
    },
    {
     "name": "stderr",
     "output_type": "stream",
     "text": [
      "100%|██████████| 281857/281857 [00:03<00:00, 80409.92KB/s]\n"
     ]
    },
    {
     "name": "stdout",
     "output_type": "stream",
     "text": [
      "Applied providers: ['CUDAExecutionProvider', 'CPUExecutionProvider'], with options: {'CPUExecutionProvider': {}, 'CUDAExecutionProvider': {'sdpa_kernel': '0', 'use_tf32': '1', 'fuse_conv_bias': '0', 'prefer_nhwc': '0', 'tunable_op_max_tuning_duration_ms': '0', 'enable_skip_layer_norm_strict_mode': '0', 'tunable_op_tuning_enable': '0', 'tunable_op_enable': '0', 'use_ep_level_unified_stream': '0', 'device_id': '0', 'has_user_compute_stream': '0', 'gpu_external_empty_cache': '0', 'cudnn_conv_algo_search': 'EXHAUSTIVE', 'cudnn_conv1d_pad_to_nc1d': '0', 'gpu_mem_limit': '18446744073709551615', 'gpu_external_alloc': '0', 'gpu_external_free': '0', 'arena_extend_strategy': 'kNextPowerOfTwo', 'do_copy_in_default_stream': '1', 'enable_cuda_graph': '0', 'user_compute_stream': '0', 'cudnn_conv_use_max_workspace': '1'}}\n",
      "find model: /root/.insightface/models/buffalo_l/1k3d68.onnx landmark_3d_68 ['None', 3, 192, 192] 0.0 1.0\n",
      "Applied providers: ['CUDAExecutionProvider', 'CPUExecutionProvider'], with options: {'CPUExecutionProvider': {}, 'CUDAExecutionProvider': {'sdpa_kernel': '0', 'use_tf32': '1', 'fuse_conv_bias': '0', 'prefer_nhwc': '0', 'tunable_op_max_tuning_duration_ms': '0', 'enable_skip_layer_norm_strict_mode': '0', 'tunable_op_tuning_enable': '0', 'tunable_op_enable': '0', 'use_ep_level_unified_stream': '0', 'device_id': '0', 'has_user_compute_stream': '0', 'gpu_external_empty_cache': '0', 'cudnn_conv_algo_search': 'EXHAUSTIVE', 'cudnn_conv1d_pad_to_nc1d': '0', 'gpu_mem_limit': '18446744073709551615', 'gpu_external_alloc': '0', 'gpu_external_free': '0', 'arena_extend_strategy': 'kNextPowerOfTwo', 'do_copy_in_default_stream': '1', 'enable_cuda_graph': '0', 'user_compute_stream': '0', 'cudnn_conv_use_max_workspace': '1'}}\n",
      "find model: /root/.insightface/models/buffalo_l/2d106det.onnx landmark_2d_106 ['None', 3, 192, 192] 0.0 1.0\n",
      "Applied providers: ['CUDAExecutionProvider', 'CPUExecutionProvider'], with options: {'CPUExecutionProvider': {}, 'CUDAExecutionProvider': {'sdpa_kernel': '0', 'use_tf32': '1', 'fuse_conv_bias': '0', 'prefer_nhwc': '0', 'tunable_op_max_tuning_duration_ms': '0', 'enable_skip_layer_norm_strict_mode': '0', 'tunable_op_tuning_enable': '0', 'tunable_op_enable': '0', 'use_ep_level_unified_stream': '0', 'device_id': '0', 'has_user_compute_stream': '0', 'gpu_external_empty_cache': '0', 'cudnn_conv_algo_search': 'EXHAUSTIVE', 'cudnn_conv1d_pad_to_nc1d': '0', 'gpu_mem_limit': '18446744073709551615', 'gpu_external_alloc': '0', 'gpu_external_free': '0', 'arena_extend_strategy': 'kNextPowerOfTwo', 'do_copy_in_default_stream': '1', 'enable_cuda_graph': '0', 'user_compute_stream': '0', 'cudnn_conv_use_max_workspace': '1'}}\n",
      "find model: /root/.insightface/models/buffalo_l/det_10g.onnx detection [1, 3, '?', '?'] 127.5 128.0\n",
      "Applied providers: ['CUDAExecutionProvider', 'CPUExecutionProvider'], with options: {'CPUExecutionProvider': {}, 'CUDAExecutionProvider': {'sdpa_kernel': '0', 'use_tf32': '1', 'fuse_conv_bias': '0', 'prefer_nhwc': '0', 'tunable_op_max_tuning_duration_ms': '0', 'enable_skip_layer_norm_strict_mode': '0', 'tunable_op_tuning_enable': '0', 'tunable_op_enable': '0', 'use_ep_level_unified_stream': '0', 'device_id': '0', 'has_user_compute_stream': '0', 'gpu_external_empty_cache': '0', 'cudnn_conv_algo_search': 'EXHAUSTIVE', 'cudnn_conv1d_pad_to_nc1d': '0', 'gpu_mem_limit': '18446744073709551615', 'gpu_external_alloc': '0', 'gpu_external_free': '0', 'arena_extend_strategy': 'kNextPowerOfTwo', 'do_copy_in_default_stream': '1', 'enable_cuda_graph': '0', 'user_compute_stream': '0', 'cudnn_conv_use_max_workspace': '1'}}\n",
      "find model: /root/.insightface/models/buffalo_l/genderage.onnx genderage ['None', 3, 96, 96] 0.0 1.0\n",
      "Applied providers: ['CUDAExecutionProvider', 'CPUExecutionProvider'], with options: {'CPUExecutionProvider': {}, 'CUDAExecutionProvider': {'sdpa_kernel': '0', 'use_tf32': '1', 'fuse_conv_bias': '0', 'prefer_nhwc': '0', 'tunable_op_max_tuning_duration_ms': '0', 'enable_skip_layer_norm_strict_mode': '0', 'tunable_op_tuning_enable': '0', 'tunable_op_enable': '0', 'use_ep_level_unified_stream': '0', 'device_id': '0', 'has_user_compute_stream': '0', 'gpu_external_empty_cache': '0', 'cudnn_conv_algo_search': 'EXHAUSTIVE', 'cudnn_conv1d_pad_to_nc1d': '0', 'gpu_mem_limit': '18446744073709551615', 'gpu_external_alloc': '0', 'gpu_external_free': '0', 'arena_extend_strategy': 'kNextPowerOfTwo', 'do_copy_in_default_stream': '1', 'enable_cuda_graph': '0', 'user_compute_stream': '0', 'cudnn_conv_use_max_workspace': '1'}}\n",
      "find model: /root/.insightface/models/buffalo_l/w600k_r50.onnx recognition ['None', 3, 112, 112] 127.5 127.5\n",
      "set det-size: (640, 640)\n",
      "Applied providers: ['CUDAExecutionProvider', 'CPUExecutionProvider'], with options: {'CPUExecutionProvider': {}, 'CUDAExecutionProvider': {'sdpa_kernel': '0', 'use_tf32': '1', 'fuse_conv_bias': '0', 'prefer_nhwc': '0', 'tunable_op_max_tuning_duration_ms': '0', 'enable_skip_layer_norm_strict_mode': '0', 'tunable_op_tuning_enable': '0', 'tunable_op_enable': '0', 'use_ep_level_unified_stream': '0', 'device_id': '0', 'has_user_compute_stream': '0', 'gpu_external_empty_cache': '0', 'cudnn_conv_algo_search': 'EXHAUSTIVE', 'cudnn_conv1d_pad_to_nc1d': '0', 'gpu_mem_limit': '18446744073709551615', 'gpu_external_alloc': '0', 'gpu_external_free': '0', 'arena_extend_strategy': 'kNextPowerOfTwo', 'do_copy_in_default_stream': '1', 'enable_cuda_graph': '0', 'user_compute_stream': '0', 'cudnn_conv_use_max_workspace': '1'}}\n",
      "inswapper-shape: [1, 3, 128, 128]\n"
     ]
    }
   ],
   "source": [
    "from google.colab import drive\n",
    "drive.mount('/content/drive')\n",
    "\n",
    "# Initialising and Setting up model\n",
    "app = FaceAnalysis(name='buffalo_l', providers=['CUDAExecutionProvider'])\n",
    "app.prepare(ctx_id=0, det_size=(640,640))\n",
    "swapper = insightface.model_zoo.get_model('/content/drive/MyDrive/face-swap/inswapper_128.onnx')"
   ]
  },
  {
   "cell_type": "markdown",
   "metadata": {
    "id": "bAFVsSo_zQbN"
   },
   "source": [
    "> Create temp folders and define paths\n"
   ]
  },
  {
   "cell_type": "code",
   "execution_count": 4,
   "metadata": {
    "id": "GJVAFWg4wid5"
   },
   "outputs": [],
   "source": [
    "!rm -rf '/content/video_frames'\n",
    "!rm -rf '/content/processed_images'\n",
    "!mkdir '/content/video_frames'\n",
    "!mkdir '/content/processed_images'\n",
    "!rm -rf '/content/output_video.mp4'\n",
    "\n",
    "# Source face path\n",
    "source_face_path=\"/content/source_face.jpg\"\n",
    "# Path to the input video file\n",
    "video_path = \"/content/input_video.mp4\"\n",
    "# Output directory for the frames\n",
    "video_frames_path = \"/content/video_frames\"\n",
    "# Path to processed frames\n",
    "processed_frames_path = \"/content/processed_images\""
   ]
  },
  {
   "cell_type": "markdown",
   "metadata": {},
   "source": []
  },
  {
   "cell_type": "markdown",
   "metadata": {},
   "source": [
    "## 🧪 Step 3: Face Detection  "
   ]
  },
  {
   "cell_type": "markdown",
   "metadata": {
    "id": "lHFlp5m9wv3k"
   },
   "source": [
    "> Convert input video to frames"
   ]
  },
  {
   "cell_type": "code",
   "execution_count": 5,
   "metadata": {
    "id": "QDSwCwBEwvLM"
   },
   "outputs": [],
   "source": [
    "def convert_video_to_frames(video_path, output_dir):\n",
    "    video = cv2.VideoCapture(video_path)\n",
    "    frame_count = 0\n",
    "\n",
    "    while True:\n",
    "        ret, frame = video.read()\n",
    "        if not ret:\n",
    "            break\n",
    "\n",
    "        output_file = f\"{output_dir}/frame_{frame_count:05d}.jpg\"\n",
    "        cv2.imwrite(output_file, frame)\n",
    "\n",
    "        frame_count += 1\n",
    "\n",
    "    video.release()\n",
    "\n",
    "convert_video_to_frames(video_path, video_frames_path)"
   ]
  },
  {
   "cell_type": "markdown",
   "metadata": {
    "id": "s4l-qY1-0olK"
   },
   "source": [
    "> Extract facial data of all target frames"
   ]
  },
  {
   "cell_type": "code",
   "execution_count": 6,
   "metadata": {
    "id": "MfboON6D0xYk"
   },
   "outputs": [],
   "source": [
    "target_facial_data = []\n",
    "\n",
    "def get_target_facial_data(input_dir):\n",
    "  image_files = [file for file in os.listdir(input_dir) if file.endswith(\".jpg\")]\n",
    "  image_files.sort()\n",
    "\n",
    "  for filename in image_files:\n",
    "        input_path = os.path.join(input_dir, filename)\n",
    "        image = cv2.imread(input_path)\n",
    "        curr_frame_faces = app.get(image)\n",
    "        target_facial_data.append(curr_frame_faces)\n",
    "\n",
    "get_target_facial_data(video_frames_path);\n",
    "total_target_frames = len(target_facial_data)"
   ]
  },
  {
   "cell_type": "markdown",
   "metadata": {
    "id": "LRqjv6ry08UC"
   },
   "source": [
    "> Load source face"
   ]
  },
  {
   "cell_type": "code",
   "execution_count": 7,
   "metadata": {
    "id": "m_oeIlrR08gC"
   },
   "outputs": [],
   "source": [
    "face1 = None\n",
    "source_face = cv2.imread(source_face_path)\n",
    "get_source_face = app.get(source_face)\n",
    "\n",
    "if(get_source_face == None or len( get_source_face )==0):\n",
    "  print('No face found in source image')\n",
    "else:\n",
    "  face1 = get_source_face[0];"
   ]
  },
  {
   "cell_type": "markdown",
   "metadata": {},
   "source": [
    "## 🎬 Step 4: Face Swap in Action  \n",
    "> 🔁 Swapping faces frame by frame...\n"
   ]
  },
  {
   "cell_type": "code",
   "execution_count": 8,
   "metadata": {
    "id": "m_farbJ208xC"
   },
   "outputs": [],
   "source": [
    "def swap_face(image, curr_frame_facial_data):\n",
    "  face2 = None\n",
    "  get_target_face = curr_frame_facial_data\n",
    "  swapped_image = image.copy()\n",
    "\n",
    "  if(get_target_face == None or len( get_target_face )==0):\n",
    "    print('No target face found in current image')\n",
    "    return swapped_image\n",
    "  else:\n",
    "    face2 = get_target_face[0]\n",
    "\n",
    "  swapped_image = swapper.get(swapped_image,face2,face1,paste_back=True)\n",
    "  return swapped_image"
   ]
  },
  {
   "cell_type": "markdown",
   "metadata": {
    "id": "iuxh2BLo16Rq"
   },
   "source": [
    "> Loop over all frames and call swap face"
   ]
  },
  {
   "cell_type": "code",
   "execution_count": 9,
   "metadata": {
    "colab": {
     "base_uri": "https://localhost:8080/"
    },
    "id": "qKt1DYhw16Zi",
    "outputId": "3586b049-58e4-4a60-f895-9726507e59b3"
   },
   "outputs": [
    {
     "name": "stdout",
     "output_type": "stream",
     "text": [
      "Processed image 0 saved: /content/processed_images/frame_00000.jpg\n",
      "Processed image 1 saved: /content/processed_images/frame_00001.jpg\n",
      "Processed image 2 saved: /content/processed_images/frame_00002.jpg\n",
      "Processed image 3 saved: /content/processed_images/frame_00003.jpg\n",
      "Processed image 4 saved: /content/processed_images/frame_00004.jpg\n",
      "Processed image 5 saved: /content/processed_images/frame_00005.jpg\n",
      "Processed image 6 saved: /content/processed_images/frame_00006.jpg\n",
      "Processed image 7 saved: /content/processed_images/frame_00007.jpg\n",
      "Processed image 8 saved: /content/processed_images/frame_00008.jpg\n",
      "Processed image 9 saved: /content/processed_images/frame_00009.jpg\n",
      "Processed image 10 saved: /content/processed_images/frame_00010.jpg\n",
      "Processed image 11 saved: /content/processed_images/frame_00011.jpg\n",
      "Processed image 12 saved: /content/processed_images/frame_00012.jpg\n",
      "Processed image 13 saved: /content/processed_images/frame_00013.jpg\n",
      "Processed image 14 saved: /content/processed_images/frame_00014.jpg\n",
      "Processed image 15 saved: /content/processed_images/frame_00015.jpg\n",
      "Processed image 16 saved: /content/processed_images/frame_00016.jpg\n",
      "Processed image 17 saved: /content/processed_images/frame_00017.jpg\n",
      "Processed image 18 saved: /content/processed_images/frame_00018.jpg\n",
      "Processed image 19 saved: /content/processed_images/frame_00019.jpg\n",
      "Processed image 20 saved: /content/processed_images/frame_00020.jpg\n",
      "Processed image 21 saved: /content/processed_images/frame_00021.jpg\n",
      "Processed image 22 saved: /content/processed_images/frame_00022.jpg\n",
      "Processed image 23 saved: /content/processed_images/frame_00023.jpg\n",
      "Processed image 24 saved: /content/processed_images/frame_00024.jpg\n",
      "Processed image 25 saved: /content/processed_images/frame_00025.jpg\n",
      "Processed image 26 saved: /content/processed_images/frame_00026.jpg\n",
      "Processed image 27 saved: /content/processed_images/frame_00027.jpg\n",
      "Processed image 28 saved: /content/processed_images/frame_00028.jpg\n",
      "Processed image 29 saved: /content/processed_images/frame_00029.jpg\n",
      "Processed image 30 saved: /content/processed_images/frame_00030.jpg\n",
      "Processed image 31 saved: /content/processed_images/frame_00031.jpg\n",
      "Processed image 32 saved: /content/processed_images/frame_00032.jpg\n",
      "Processed image 33 saved: /content/processed_images/frame_00033.jpg\n",
      "Processed image 34 saved: /content/processed_images/frame_00034.jpg\n",
      "Processed image 35 saved: /content/processed_images/frame_00035.jpg\n",
      "Processed image 36 saved: /content/processed_images/frame_00036.jpg\n",
      "Processed image 37 saved: /content/processed_images/frame_00037.jpg\n",
      "Processed image 38 saved: /content/processed_images/frame_00038.jpg\n",
      "Processed image 39 saved: /content/processed_images/frame_00039.jpg\n",
      "Processed image 40 saved: /content/processed_images/frame_00040.jpg\n",
      "Processed image 41 saved: /content/processed_images/frame_00041.jpg\n",
      "Processed image 42 saved: /content/processed_images/frame_00042.jpg\n",
      "Processed image 43 saved: /content/processed_images/frame_00043.jpg\n",
      "Processed image 44 saved: /content/processed_images/frame_00044.jpg\n",
      "Processed image 45 saved: /content/processed_images/frame_00045.jpg\n",
      "Processed image 46 saved: /content/processed_images/frame_00046.jpg\n",
      "Processed image 47 saved: /content/processed_images/frame_00047.jpg\n",
      "Processed image 48 saved: /content/processed_images/frame_00048.jpg\n",
      "Processed image 49 saved: /content/processed_images/frame_00049.jpg\n",
      "Processed image 50 saved: /content/processed_images/frame_00050.jpg\n",
      "Processed image 51 saved: /content/processed_images/frame_00051.jpg\n",
      "Processed image 52 saved: /content/processed_images/frame_00052.jpg\n",
      "Processed image 53 saved: /content/processed_images/frame_00053.jpg\n",
      "Processed image 54 saved: /content/processed_images/frame_00054.jpg\n",
      "Processed image 55 saved: /content/processed_images/frame_00055.jpg\n",
      "Processed image 56 saved: /content/processed_images/frame_00056.jpg\n",
      "Processed image 57 saved: /content/processed_images/frame_00057.jpg\n",
      "Processed image 58 saved: /content/processed_images/frame_00058.jpg\n",
      "Processed image 59 saved: /content/processed_images/frame_00059.jpg\n",
      "Processed image 60 saved: /content/processed_images/frame_00060.jpg\n",
      "Processed image 61 saved: /content/processed_images/frame_00061.jpg\n",
      "Processed image 62 saved: /content/processed_images/frame_00062.jpg\n",
      "Processed image 63 saved: /content/processed_images/frame_00063.jpg\n",
      "Processed image 64 saved: /content/processed_images/frame_00064.jpg\n",
      "Processed image 65 saved: /content/processed_images/frame_00065.jpg\n",
      "Processed image 66 saved: /content/processed_images/frame_00066.jpg\n",
      "Processed image 67 saved: /content/processed_images/frame_00067.jpg\n",
      "Processed image 68 saved: /content/processed_images/frame_00068.jpg\n",
      "Processed image 69 saved: /content/processed_images/frame_00069.jpg\n",
      "Processed image 70 saved: /content/processed_images/frame_00070.jpg\n",
      "Processed image 71 saved: /content/processed_images/frame_00071.jpg\n",
      "Processed image 72 saved: /content/processed_images/frame_00072.jpg\n",
      "Processed image 73 saved: /content/processed_images/frame_00073.jpg\n",
      "Processed image 74 saved: /content/processed_images/frame_00074.jpg\n",
      "Processed image 75 saved: /content/processed_images/frame_00075.jpg\n",
      "Processed image 76 saved: /content/processed_images/frame_00076.jpg\n",
      "Processed image 77 saved: /content/processed_images/frame_00077.jpg\n",
      "Processed image 78 saved: /content/processed_images/frame_00078.jpg\n",
      "Processed image 79 saved: /content/processed_images/frame_00079.jpg\n",
      "Processed image 80 saved: /content/processed_images/frame_00080.jpg\n",
      "Processed image 81 saved: /content/processed_images/frame_00081.jpg\n",
      "Processed image 82 saved: /content/processed_images/frame_00082.jpg\n",
      "Processed image 83 saved: /content/processed_images/frame_00083.jpg\n",
      "Processed image 84 saved: /content/processed_images/frame_00084.jpg\n",
      "Processed image 85 saved: /content/processed_images/frame_00085.jpg\n",
      "Processed image 86 saved: /content/processed_images/frame_00086.jpg\n",
      "Processed image 87 saved: /content/processed_images/frame_00087.jpg\n",
      "Processed image 88 saved: /content/processed_images/frame_00088.jpg\n",
      "Processed image 89 saved: /content/processed_images/frame_00089.jpg\n",
      "Processed image 90 saved: /content/processed_images/frame_00090.jpg\n",
      "Processed image 91 saved: /content/processed_images/frame_00091.jpg\n",
      "Processed image 92 saved: /content/processed_images/frame_00092.jpg\n",
      "Processed image 93 saved: /content/processed_images/frame_00093.jpg\n",
      "Processed image 94 saved: /content/processed_images/frame_00094.jpg\n",
      "Processed image 95 saved: /content/processed_images/frame_00095.jpg\n",
      "Processed image 96 saved: /content/processed_images/frame_00096.jpg\n",
      "Processed image 97 saved: /content/processed_images/frame_00097.jpg\n",
      "Processed image 98 saved: /content/processed_images/frame_00098.jpg\n",
      "Processed image 99 saved: /content/processed_images/frame_00099.jpg\n",
      "Processed image 100 saved: /content/processed_images/frame_00100.jpg\n",
      "Processed image 101 saved: /content/processed_images/frame_00101.jpg\n",
      "Processed image 102 saved: /content/processed_images/frame_00102.jpg\n",
      "Processed image 103 saved: /content/processed_images/frame_00103.jpg\n",
      "Processed image 104 saved: /content/processed_images/frame_00104.jpg\n",
      "Processed image 105 saved: /content/processed_images/frame_00105.jpg\n",
      "Processed image 106 saved: /content/processed_images/frame_00106.jpg\n",
      "Processed image 107 saved: /content/processed_images/frame_00107.jpg\n",
      "Processed image 108 saved: /content/processed_images/frame_00108.jpg\n",
      "Processed image 109 saved: /content/processed_images/frame_00109.jpg\n",
      "Processed image 110 saved: /content/processed_images/frame_00110.jpg\n",
      "Processed image 111 saved: /content/processed_images/frame_00111.jpg\n",
      "Processed image 112 saved: /content/processed_images/frame_00112.jpg\n",
      "Processed image 113 saved: /content/processed_images/frame_00113.jpg\n",
      "Processed image 114 saved: /content/processed_images/frame_00114.jpg\n",
      "Processed image 115 saved: /content/processed_images/frame_00115.jpg\n",
      "Processed image 116 saved: /content/processed_images/frame_00116.jpg\n",
      "Processed image 117 saved: /content/processed_images/frame_00117.jpg\n",
      "Processed image 118 saved: /content/processed_images/frame_00118.jpg\n",
      "Processed image 119 saved: /content/processed_images/frame_00119.jpg\n",
      "Processed image 120 saved: /content/processed_images/frame_00120.jpg\n",
      "Processed image 121 saved: /content/processed_images/frame_00121.jpg\n",
      "Processed image 122 saved: /content/processed_images/frame_00122.jpg\n",
      "Processed image 123 saved: /content/processed_images/frame_00123.jpg\n",
      "Processed image 124 saved: /content/processed_images/frame_00124.jpg\n",
      "Processed image 125 saved: /content/processed_images/frame_00125.jpg\n",
      "Processed image 126 saved: /content/processed_images/frame_00126.jpg\n",
      "Processed image 127 saved: /content/processed_images/frame_00127.jpg\n",
      "Processed image 128 saved: /content/processed_images/frame_00128.jpg\n",
      "Processed image 129 saved: /content/processed_images/frame_00129.jpg\n",
      "Processed image 130 saved: /content/processed_images/frame_00130.jpg\n",
      "Processed image 131 saved: /content/processed_images/frame_00131.jpg\n",
      "Processed image 132 saved: /content/processed_images/frame_00132.jpg\n",
      "Processed image 133 saved: /content/processed_images/frame_00133.jpg\n",
      "Processed image 134 saved: /content/processed_images/frame_00134.jpg\n",
      "Processed image 135 saved: /content/processed_images/frame_00135.jpg\n",
      "Processed image 136 saved: /content/processed_images/frame_00136.jpg\n",
      "Processed image 137 saved: /content/processed_images/frame_00137.jpg\n",
      "Processed image 138 saved: /content/processed_images/frame_00138.jpg\n",
      "Processed image 139 saved: /content/processed_images/frame_00139.jpg\n",
      "Processed image 140 saved: /content/processed_images/frame_00140.jpg\n",
      "Processed image 141 saved: /content/processed_images/frame_00141.jpg\n",
      "Processed image 142 saved: /content/processed_images/frame_00142.jpg\n",
      "Processed image 143 saved: /content/processed_images/frame_00143.jpg\n",
      "Processed image 144 saved: /content/processed_images/frame_00144.jpg\n",
      "Processed image 145 saved: /content/processed_images/frame_00145.jpg\n",
      "Processed image 146 saved: /content/processed_images/frame_00146.jpg\n",
      "Processed image 147 saved: /content/processed_images/frame_00147.jpg\n",
      "Processed image 148 saved: /content/processed_images/frame_00148.jpg\n",
      "Processed image 149 saved: /content/processed_images/frame_00149.jpg\n",
      "Processed image 150 saved: /content/processed_images/frame_00150.jpg\n",
      "Processed image 151 saved: /content/processed_images/frame_00151.jpg\n",
      "Processed image 152 saved: /content/processed_images/frame_00152.jpg\n",
      "Processed image 153 saved: /content/processed_images/frame_00153.jpg\n",
      "Processed image 154 saved: /content/processed_images/frame_00154.jpg\n",
      "Processed image 155 saved: /content/processed_images/frame_00155.jpg\n",
      "Processed image 156 saved: /content/processed_images/frame_00156.jpg\n",
      "Processed image 157 saved: /content/processed_images/frame_00157.jpg\n",
      "Processed image 158 saved: /content/processed_images/frame_00158.jpg\n",
      "Processed image 159 saved: /content/processed_images/frame_00159.jpg\n",
      "Processed image 160 saved: /content/processed_images/frame_00160.jpg\n",
      "Processed image 161 saved: /content/processed_images/frame_00161.jpg\n",
      "Processed image 162 saved: /content/processed_images/frame_00162.jpg\n",
      "Processed image 163 saved: /content/processed_images/frame_00163.jpg\n",
      "Processed image 164 saved: /content/processed_images/frame_00164.jpg\n",
      "Processed image 165 saved: /content/processed_images/frame_00165.jpg\n",
      "Processed image 166 saved: /content/processed_images/frame_00166.jpg\n",
      "Processed image 167 saved: /content/processed_images/frame_00167.jpg\n",
      "Processed image 168 saved: /content/processed_images/frame_00168.jpg\n",
      "Processed image 169 saved: /content/processed_images/frame_00169.jpg\n",
      "Processed image 170 saved: /content/processed_images/frame_00170.jpg\n",
      "Processed image 171 saved: /content/processed_images/frame_00171.jpg\n",
      "Processed image 172 saved: /content/processed_images/frame_00172.jpg\n",
      "Processed image 173 saved: /content/processed_images/frame_00173.jpg\n",
      "Processed image 174 saved: /content/processed_images/frame_00174.jpg\n",
      "Processed image 175 saved: /content/processed_images/frame_00175.jpg\n",
      "Processed image 176 saved: /content/processed_images/frame_00176.jpg\n",
      "Processed image 177 saved: /content/processed_images/frame_00177.jpg\n",
      "Processed image 178 saved: /content/processed_images/frame_00178.jpg\n",
      "Processed image 179 saved: /content/processed_images/frame_00179.jpg\n",
      "Processed image 180 saved: /content/processed_images/frame_00180.jpg\n",
      "Processed image 181 saved: /content/processed_images/frame_00181.jpg\n",
      "Processed image 182 saved: /content/processed_images/frame_00182.jpg\n",
      "Processed image 183 saved: /content/processed_images/frame_00183.jpg\n",
      "Processed image 184 saved: /content/processed_images/frame_00184.jpg\n",
      "Processed image 185 saved: /content/processed_images/frame_00185.jpg\n",
      "Processed image 186 saved: /content/processed_images/frame_00186.jpg\n",
      "Processed image 187 saved: /content/processed_images/frame_00187.jpg\n",
      "Processed image 188 saved: /content/processed_images/frame_00188.jpg\n",
      "Processed image 189 saved: /content/processed_images/frame_00189.jpg\n",
      "Processed image 190 saved: /content/processed_images/frame_00190.jpg\n",
      "Processed image 191 saved: /content/processed_images/frame_00191.jpg\n",
      "Processed image 192 saved: /content/processed_images/frame_00192.jpg\n",
      "Processed image 193 saved: /content/processed_images/frame_00193.jpg\n",
      "Processed image 194 saved: /content/processed_images/frame_00194.jpg\n",
      "Processed image 195 saved: /content/processed_images/frame_00195.jpg\n",
      "Processed image 196 saved: /content/processed_images/frame_00196.jpg\n",
      "Processed image 197 saved: /content/processed_images/frame_00197.jpg\n",
      "Processed image 198 saved: /content/processed_images/frame_00198.jpg\n",
      "Processed image 199 saved: /content/processed_images/frame_00199.jpg\n",
      "Processed image 200 saved: /content/processed_images/frame_00200.jpg\n",
      "Processed image 201 saved: /content/processed_images/frame_00201.jpg\n",
      "Processed image 202 saved: /content/processed_images/frame_00202.jpg\n",
      "Processed image 203 saved: /content/processed_images/frame_00203.jpg\n",
      "Processed image 204 saved: /content/processed_images/frame_00204.jpg\n",
      "Processed image 205 saved: /content/processed_images/frame_00205.jpg\n",
      "Processed image 206 saved: /content/processed_images/frame_00206.jpg\n",
      "Processed image 207 saved: /content/processed_images/frame_00207.jpg\n",
      "Processed image 208 saved: /content/processed_images/frame_00208.jpg\n",
      "Processed image 209 saved: /content/processed_images/frame_00209.jpg\n",
      "Processed image 210 saved: /content/processed_images/frame_00210.jpg\n",
      "Processed image 211 saved: /content/processed_images/frame_00211.jpg\n",
      "Processed image 212 saved: /content/processed_images/frame_00212.jpg\n",
      "Processed image 213 saved: /content/processed_images/frame_00213.jpg\n",
      "Processed image 214 saved: /content/processed_images/frame_00214.jpg\n",
      "Processed image 215 saved: /content/processed_images/frame_00215.jpg\n",
      "Processed image 216 saved: /content/processed_images/frame_00216.jpg\n",
      "Processed image 217 saved: /content/processed_images/frame_00217.jpg\n",
      "Processed image 218 saved: /content/processed_images/frame_00218.jpg\n",
      "Processed image 219 saved: /content/processed_images/frame_00219.jpg\n",
      "Processed image 220 saved: /content/processed_images/frame_00220.jpg\n",
      "Processed image 221 saved: /content/processed_images/frame_00221.jpg\n",
      "Processed image 222 saved: /content/processed_images/frame_00222.jpg\n",
      "Processed image 223 saved: /content/processed_images/frame_00223.jpg\n",
      "Processed image 224 saved: /content/processed_images/frame_00224.jpg\n",
      "Processed image 225 saved: /content/processed_images/frame_00225.jpg\n",
      "Processed image 226 saved: /content/processed_images/frame_00226.jpg\n",
      "Processed image 227 saved: /content/processed_images/frame_00227.jpg\n",
      "Processed image 228 saved: /content/processed_images/frame_00228.jpg\n",
      "Processed image 229 saved: /content/processed_images/frame_00229.jpg\n",
      "Processed image 230 saved: /content/processed_images/frame_00230.jpg\n",
      "Processed image 231 saved: /content/processed_images/frame_00231.jpg\n",
      "Processed image 232 saved: /content/processed_images/frame_00232.jpg\n",
      "Processed image 233 saved: /content/processed_images/frame_00233.jpg\n",
      "Processed image 234 saved: /content/processed_images/frame_00234.jpg\n",
      "Processed image 235 saved: /content/processed_images/frame_00235.jpg\n",
      "Processed image 236 saved: /content/processed_images/frame_00236.jpg\n",
      "Processed image 237 saved: /content/processed_images/frame_00237.jpg\n",
      "Processed image 238 saved: /content/processed_images/frame_00238.jpg\n",
      "Processed image 239 saved: /content/processed_images/frame_00239.jpg\n",
      "Processed image 240 saved: /content/processed_images/frame_00240.jpg\n",
      "Processed image 241 saved: /content/processed_images/frame_00241.jpg\n",
      "Processed image 242 saved: /content/processed_images/frame_00242.jpg\n",
      "Processed image 243 saved: /content/processed_images/frame_00243.jpg\n",
      "Processed image 244 saved: /content/processed_images/frame_00244.jpg\n",
      "Processed image 245 saved: /content/processed_images/frame_00245.jpg\n",
      "Processed image 246 saved: /content/processed_images/frame_00246.jpg\n",
      "Processed image 247 saved: /content/processed_images/frame_00247.jpg\n",
      "Processed image 248 saved: /content/processed_images/frame_00248.jpg\n",
      "Processed image 249 saved: /content/processed_images/frame_00249.jpg\n",
      "Processed image 250 saved: /content/processed_images/frame_00250.jpg\n",
      "Processed image 251 saved: /content/processed_images/frame_00251.jpg\n",
      "Processed image 252 saved: /content/processed_images/frame_00252.jpg\n",
      "Processed image 253 saved: /content/processed_images/frame_00253.jpg\n",
      "Processed image 254 saved: /content/processed_images/frame_00254.jpg\n",
      "Processed image 255 saved: /content/processed_images/frame_00255.jpg\n",
      "Processed image 256 saved: /content/processed_images/frame_00256.jpg\n",
      "Processed image 257 saved: /content/processed_images/frame_00257.jpg\n",
      "Processed image 258 saved: /content/processed_images/frame_00258.jpg\n",
      "Processed image 259 saved: /content/processed_images/frame_00259.jpg\n",
      "Processed image 260 saved: /content/processed_images/frame_00260.jpg\n",
      "Processed image 261 saved: /content/processed_images/frame_00261.jpg\n",
      "Processed image 262 saved: /content/processed_images/frame_00262.jpg\n",
      "Processed image 263 saved: /content/processed_images/frame_00263.jpg\n",
      "Processed image 264 saved: /content/processed_images/frame_00264.jpg\n",
      "Processed image 265 saved: /content/processed_images/frame_00265.jpg\n",
      "Processed image 266 saved: /content/processed_images/frame_00266.jpg\n",
      "Processed image 267 saved: /content/processed_images/frame_00267.jpg\n",
      "Processed image 268 saved: /content/processed_images/frame_00268.jpg\n",
      "Processed image 269 saved: /content/processed_images/frame_00269.jpg\n",
      "Processed image 270 saved: /content/processed_images/frame_00270.jpg\n",
      "Processed image 271 saved: /content/processed_images/frame_00271.jpg\n",
      "Processed image 272 saved: /content/processed_images/frame_00272.jpg\n",
      "Processed image 273 saved: /content/processed_images/frame_00273.jpg\n",
      "Processed image 274 saved: /content/processed_images/frame_00274.jpg\n",
      "Processed image 275 saved: /content/processed_images/frame_00275.jpg\n",
      "Processed image 276 saved: /content/processed_images/frame_00276.jpg\n",
      "Processed image 277 saved: /content/processed_images/frame_00277.jpg\n",
      "Processed image 278 saved: /content/processed_images/frame_00278.jpg\n",
      "Processed image 279 saved: /content/processed_images/frame_00279.jpg\n",
      "Processed image 280 saved: /content/processed_images/frame_00280.jpg\n",
      "Processed image 281 saved: /content/processed_images/frame_00281.jpg\n",
      "Processed image 282 saved: /content/processed_images/frame_00282.jpg\n",
      "Processed image 283 saved: /content/processed_images/frame_00283.jpg\n",
      "Processed image 284 saved: /content/processed_images/frame_00284.jpg\n",
      "Processed image 285 saved: /content/processed_images/frame_00285.jpg\n",
      "Processed image 286 saved: /content/processed_images/frame_00286.jpg\n",
      "Processed image 287 saved: /content/processed_images/frame_00287.jpg\n",
      "Processed image 288 saved: /content/processed_images/frame_00288.jpg\n",
      "Processed image 289 saved: /content/processed_images/frame_00289.jpg\n",
      "Processed image 290 saved: /content/processed_images/frame_00290.jpg\n",
      "Processed image 291 saved: /content/processed_images/frame_00291.jpg\n",
      "Processed image 292 saved: /content/processed_images/frame_00292.jpg\n",
      "Processed image 293 saved: /content/processed_images/frame_00293.jpg\n",
      "Processed image 294 saved: /content/processed_images/frame_00294.jpg\n",
      "Processed image 295 saved: /content/processed_images/frame_00295.jpg\n",
      "Processed image 296 saved: /content/processed_images/frame_00296.jpg\n",
      "Processed image 297 saved: /content/processed_images/frame_00297.jpg\n",
      "Processed image 298 saved: /content/processed_images/frame_00298.jpg\n",
      "Processed image 299 saved: /content/processed_images/frame_00299.jpg\n",
      "Processed image 300 saved: /content/processed_images/frame_00300.jpg\n",
      "Processed image 301 saved: /content/processed_images/frame_00301.jpg\n",
      "Processed image 302 saved: /content/processed_images/frame_00302.jpg\n",
      "Processed image 303 saved: /content/processed_images/frame_00303.jpg\n",
      "Processed image 304 saved: /content/processed_images/frame_00304.jpg\n",
      "Processed image 305 saved: /content/processed_images/frame_00305.jpg\n",
      "Processed image 306 saved: /content/processed_images/frame_00306.jpg\n",
      "Processed image 307 saved: /content/processed_images/frame_00307.jpg\n",
      "Processed image 308 saved: /content/processed_images/frame_00308.jpg\n",
      "Processed image 309 saved: /content/processed_images/frame_00309.jpg\n",
      "Processed image 310 saved: /content/processed_images/frame_00310.jpg\n",
      "Processed image 311 saved: /content/processed_images/frame_00311.jpg\n",
      "Processed image 312 saved: /content/processed_images/frame_00312.jpg\n",
      "Processed image 313 saved: /content/processed_images/frame_00313.jpg\n",
      "Processed image 314 saved: /content/processed_images/frame_00314.jpg\n",
      "Processed image 315 saved: /content/processed_images/frame_00315.jpg\n",
      "Processed image 316 saved: /content/processed_images/frame_00316.jpg\n",
      "Processed image 317 saved: /content/processed_images/frame_00317.jpg\n",
      "Processed image 318 saved: /content/processed_images/frame_00318.jpg\n",
      "Processed image 319 saved: /content/processed_images/frame_00319.jpg\n",
      "Processed image 320 saved: /content/processed_images/frame_00320.jpg\n",
      "Processed image 321 saved: /content/processed_images/frame_00321.jpg\n",
      "Processed image 322 saved: /content/processed_images/frame_00322.jpg\n",
      "Processed image 323 saved: /content/processed_images/frame_00323.jpg\n",
      "Processed image 324 saved: /content/processed_images/frame_00324.jpg\n",
      "Processed image 325 saved: /content/processed_images/frame_00325.jpg\n",
      "Processed image 326 saved: /content/processed_images/frame_00326.jpg\n",
      "Processed image 327 saved: /content/processed_images/frame_00327.jpg\n",
      "Processed image 328 saved: /content/processed_images/frame_00328.jpg\n",
      "Processed image 329 saved: /content/processed_images/frame_00329.jpg\n",
      "Processed image 330 saved: /content/processed_images/frame_00330.jpg\n",
      "Processed image 331 saved: /content/processed_images/frame_00331.jpg\n",
      "Processed image 332 saved: /content/processed_images/frame_00332.jpg\n",
      "Processed image 333 saved: /content/processed_images/frame_00333.jpg\n",
      "Processed image 334 saved: /content/processed_images/frame_00334.jpg\n",
      "Processed image 335 saved: /content/processed_images/frame_00335.jpg\n",
      "Processed image 336 saved: /content/processed_images/frame_00336.jpg\n",
      "Processed image 337 saved: /content/processed_images/frame_00337.jpg\n",
      "Processed image 338 saved: /content/processed_images/frame_00338.jpg\n",
      "Processed image 339 saved: /content/processed_images/frame_00339.jpg\n",
      "Processed image 340 saved: /content/processed_images/frame_00340.jpg\n",
      "Processed image 341 saved: /content/processed_images/frame_00341.jpg\n",
      "Processed image 342 saved: /content/processed_images/frame_00342.jpg\n",
      "Processed image 343 saved: /content/processed_images/frame_00343.jpg\n",
      "Processed image 344 saved: /content/processed_images/frame_00344.jpg\n",
      "Processed image 345 saved: /content/processed_images/frame_00345.jpg\n",
      "Processed image 346 saved: /content/processed_images/frame_00346.jpg\n",
      "Processed image 347 saved: /content/processed_images/frame_00347.jpg\n",
      "Processed image 348 saved: /content/processed_images/frame_00348.jpg\n",
      "Processed image 349 saved: /content/processed_images/frame_00349.jpg\n",
      "Processed image 350 saved: /content/processed_images/frame_00350.jpg\n",
      "Processed image 351 saved: /content/processed_images/frame_00351.jpg\n",
      "Processed image 352 saved: /content/processed_images/frame_00352.jpg\n",
      "Processed image 353 saved: /content/processed_images/frame_00353.jpg\n",
      "Processed image 354 saved: /content/processed_images/frame_00354.jpg\n",
      "Processed image 355 saved: /content/processed_images/frame_00355.jpg\n"
     ]
    }
   ],
   "source": [
    "def process_images(input_dir, output_dir):\n",
    "    if not os.path.exists(output_dir):\n",
    "        os.makedirs(output_dir)\n",
    "\n",
    "    image_files = [file for file in os.listdir(input_dir) if file.endswith(\".jpg\")]\n",
    "    image_files.sort()\n",
    "    index = 0\n",
    "\n",
    "    # Process each image\n",
    "    for filename in image_files:\n",
    "        input_path = os.path.join(input_dir, filename)\n",
    "        image = cv2.imread(input_path)\n",
    "\n",
    "        # Call swap_face function\n",
    "        processed_image = swap_face(image, target_facial_data[index])\n",
    "\n",
    "        output_path = os.path.join(output_dir, filename)\n",
    "        cv2.imwrite(output_path, processed_image)\n",
    "        print(f\"Processed image {index} saved: {output_path}\")\n",
    "        index += 1\n",
    "\n",
    "input_directory = video_frames_path\n",
    "output_directory = processed_frames_path\n",
    "\n",
    "process_images(input_directory, output_directory)"
   ]
  },
  {
   "cell_type": "markdown",
   "metadata": {
    "id": "WinxsTYY16gx"
   },
   "source": [
    "> Generate output video from processed frames"
   ]
  },
  {
   "cell_type": "code",
   "execution_count": 10,
   "metadata": {
    "colab": {
     "base_uri": "https://localhost:8080/"
    },
    "id": "M9LiHRN816ny",
    "outputId": "1c1376ae-71b1-4f18-a96b-07e444812589"
   },
   "outputs": [
    {
     "name": "stdout",
     "output_type": "stream",
     "text": [
      "Video saved: /content/output_video.mp4\n"
     ]
    }
   ],
   "source": [
    "def create_video_from_images(input_dir, output_path, fps):\n",
    "    image_files = [file for file in os.listdir(input_dir) if file.endswith(\".jpg\")]\n",
    "    image_files.sort()\n",
    "\n",
    "    first_image = cv2.imread(os.path.join(input_dir, image_files[0]))\n",
    "    height, width, _ = first_image.shape\n",
    "\n",
    "    fourcc = cv2.VideoWriter_fourcc(*\"mp4v\")  # Use appropriate codec\n",
    "    video_writer = cv2.VideoWriter(output_path, fourcc, fps, (width, height))\n",
    "\n",
    "    # Write each image to the video\n",
    "    for filename in image_files:\n",
    "        image_path = os.path.join(input_dir, filename)\n",
    "        image = cv2.imread(image_path)\n",
    "        video_writer.write(image)\n",
    "\n",
    "    video_writer.release()\n",
    "\n",
    "    print(f\"Video saved: {output_path}\")\n",
    "\n",
    "# Specify the input directory containing the processed images\n",
    "input_directory = processed_frames_path\n",
    "output_video = \"/content/output_video.mp4\"\n",
    "\n",
    "# Specify the frames per second (fps) for the output video\n",
    "fps = 25\n",
    "create_video_from_images(input_directory, output_video, fps)"
   ]
  },
  {
   "cell_type": "markdown",
   "metadata": {
    "id": "4qAVvzA345eR"
   },
   "source": [
    "> Download the output video"
   ]
  },
  {
   "cell_type": "code",
   "execution_count": 11,
   "metadata": {
    "colab": {
     "base_uri": "https://localhost:8080/",
     "height": 17
    },
    "id": "7oqLjtO-tlvJ",
    "outputId": "8aac76c1-09f3-424e-bc78-e81294f07a50"
   },
   "outputs": [
    {
     "data": {
      "application/javascript": "\n    async function download(id, filename, size) {\n      if (!google.colab.kernel.accessAllowed) {\n        return;\n      }\n      const div = document.createElement('div');\n      const label = document.createElement('label');\n      label.textContent = `Downloading \"${filename}\": `;\n      div.appendChild(label);\n      const progress = document.createElement('progress');\n      progress.max = size;\n      div.appendChild(progress);\n      document.body.appendChild(div);\n\n      const buffers = [];\n      let downloaded = 0;\n\n      const channel = await google.colab.kernel.comms.open(id);\n      // Send a message to notify the kernel that we're ready.\n      channel.send({})\n\n      for await (const message of channel.messages) {\n        // Send a message to notify the kernel that we're ready.\n        channel.send({})\n        if (message.buffers) {\n          for (const buffer of message.buffers) {\n            buffers.push(buffer);\n            downloaded += buffer.byteLength;\n            progress.value = downloaded;\n          }\n        }\n      }\n      const blob = new Blob(buffers, {type: 'application/binary'});\n      const a = document.createElement('a');\n      a.href = window.URL.createObjectURL(blob);\n      a.download = filename;\n      div.appendChild(a);\n      a.click();\n      div.remove();\n    }\n  ",
      "text/plain": [
       "<IPython.core.display.Javascript object>"
      ]
     },
     "metadata": {},
     "output_type": "display_data"
    },
    {
     "data": {
      "application/javascript": "download(\"download_985d0dbe-0180-4469-9482-e72a8a6d5b91\", \"output_video.mp4\", 3339686)",
      "text/plain": [
       "<IPython.core.display.Javascript object>"
      ]
     },
     "metadata": {},
     "output_type": "display_data"
    }
   ],
   "source": [
    "from google.colab import files\n",
    "files.download('/content/output_video.mp4')"
   ]
  },
  {
   "cell_type": "markdown",
   "metadata": {
    "id": "NjMV9wiM45rr"
   },
   "source": [
    "> (Additional) Add audio to the output video"
   ]
  },
  {
   "cell_type": "code",
   "execution_count": 14,
   "metadata": {
    "colab": {
     "base_uri": "https://localhost:8080/",
     "height": 439
    },
    "id": "JK2IySrX45yT",
    "outputId": "4038c6a1-ea2a-4c5c-88f7-1558a9cde2c3"
   },
   "outputs": [
    {
     "name": "stdout",
     "output_type": "stream",
     "text": [
      "Requirement already satisfied: moviepy in /usr/local/lib/python3.11/dist-packages (1.0.3)\n",
      "Requirement already satisfied: decorator<5.0,>=4.0.2 in /usr/local/lib/python3.11/dist-packages (from moviepy) (4.4.2)\n",
      "Requirement already satisfied: tqdm<5.0,>=4.11.2 in /usr/local/lib/python3.11/dist-packages (from moviepy) (4.67.1)\n",
      "Requirement already satisfied: requests<3.0,>=2.8.1 in /usr/local/lib/python3.11/dist-packages (from moviepy) (2.32.3)\n",
      "Requirement already satisfied: proglog<=1.0.0 in /usr/local/lib/python3.11/dist-packages (from moviepy) (0.1.12)\n",
      "Requirement already satisfied: numpy>=1.17.3 in /usr/local/lib/python3.11/dist-packages (from moviepy) (2.0.2)\n",
      "Requirement already satisfied: imageio<3.0,>=2.5 in /usr/local/lib/python3.11/dist-packages (from moviepy) (2.37.0)\n",
      "Requirement already satisfied: imageio-ffmpeg>=0.2.0 in /usr/local/lib/python3.11/dist-packages (from moviepy) (0.6.0)\n",
      "Requirement already satisfied: pillow>=8.3.2 in /usr/local/lib/python3.11/dist-packages (from imageio<3.0,>=2.5->moviepy) (11.2.1)\n",
      "Requirement already satisfied: charset-normalizer<4,>=2 in /usr/local/lib/python3.11/dist-packages (from requests<3.0,>=2.8.1->moviepy) (3.4.2)\n",
      "Requirement already satisfied: idna<4,>=2.5 in /usr/local/lib/python3.11/dist-packages (from requests<3.0,>=2.8.1->moviepy) (3.10)\n",
      "Requirement already satisfied: urllib3<3,>=1.21.1 in /usr/local/lib/python3.11/dist-packages (from requests<3.0,>=2.8.1->moviepy) (2.4.0)\n",
      "Requirement already satisfied: certifi>=2017.4.17 in /usr/local/lib/python3.11/dist-packages (from requests<3.0,>=2.8.1->moviepy) (2025.4.26)\n",
      "MoviePy - Writing audio in /content/audio.wav\n"
     ]
    },
    {
     "name": "stderr",
     "output_type": "stream",
     "text": [
      "                                                                    "
     ]
    },
    {
     "name": "stdout",
     "output_type": "stream",
     "text": [
      "MoviePy - Done.\n"
     ]
    },
    {
     "name": "stderr",
     "output_type": "stream",
     "text": [
      "\r"
     ]
    },
    {
     "name": "stdout",
     "output_type": "stream",
     "text": [
      "Moviepy - Building video /content/output_video_with_audio.mp4.\n",
      "MoviePy - Writing audio in output_video_with_audioTEMP_MPY_wvf_snd.mp3\n"
     ]
    },
    {
     "name": "stderr",
     "output_type": "stream",
     "text": []
    },
    {
     "name": "stdout",
     "output_type": "stream",
     "text": [
      "MoviePy - Done.\n",
      "Moviepy - Writing video /content/output_video_with_audio.mp4\n",
      "\n"
     ]
    },
    {
     "name": "stderr",
     "output_type": "stream",
     "text": []
    },
    {
     "name": "stdout",
     "output_type": "stream",
     "text": [
      "Moviepy - Done !\n",
      "Moviepy - video ready /content/output_video_with_audio.mp4\n"
     ]
    },
    {
     "data": {
      "application/javascript": "\n    async function download(id, filename, size) {\n      if (!google.colab.kernel.accessAllowed) {\n        return;\n      }\n      const div = document.createElement('div');\n      const label = document.createElement('label');\n      label.textContent = `Downloading \"${filename}\": `;\n      div.appendChild(label);\n      const progress = document.createElement('progress');\n      progress.max = size;\n      div.appendChild(progress);\n      document.body.appendChild(div);\n\n      const buffers = [];\n      let downloaded = 0;\n\n      const channel = await google.colab.kernel.comms.open(id);\n      // Send a message to notify the kernel that we're ready.\n      channel.send({})\n\n      for await (const message of channel.messages) {\n        // Send a message to notify the kernel that we're ready.\n        channel.send({})\n        if (message.buffers) {\n          for (const buffer of message.buffers) {\n            buffers.push(buffer);\n            downloaded += buffer.byteLength;\n            progress.value = downloaded;\n          }\n        }\n      }\n      const blob = new Blob(buffers, {type: 'application/binary'});\n      const a = document.createElement('a');\n      a.href = window.URL.createObjectURL(blob);\n      a.download = filename;\n      div.appendChild(a);\n      a.click();\n      div.remove();\n    }\n  ",
      "text/plain": [
       "<IPython.core.display.Javascript object>"
      ]
     },
     "metadata": {},
     "output_type": "display_data"
    },
    {
     "data": {
      "application/javascript": "download(\"download_7f5f87ee-7b98-4496-8e93-ec35fa569727\", \"output_video_with_audio.mp4\", 1836980)",
      "text/plain": [
       "<IPython.core.display.Javascript object>"
      ]
     },
     "metadata": {},
     "output_type": "display_data"
    }
   ],
   "source": [
    "!pip install moviepy\n",
    "from moviepy.editor import VideoFileClip, AudioFileClip, CompositeAudioClip\n",
    "\n",
    "# Extract audio from input video and append to output video\n",
    "def extract_audio(video_path, output_audio_path):\n",
    "    video_clip = VideoFileClip(video_path)\n",
    "    audio_clip = video_clip.audio\n",
    "    audio_clip.write_audiofile(output_audio_path)\n",
    "    audio_clip.close()\n",
    "    video_clip.close()\n",
    "\n",
    "def add_audio_to_video(video_path, audio_path, output_path):\n",
    "    video_clip = VideoFileClip(video_path)\n",
    "    audio_clip = AudioFileClip(audio_path)\n",
    "\n",
    "    if audio_clip.duration < video_clip.duration:\n",
    "        audio_clip = audio_clip.subclip(0, video_clip.duration)\n",
    "    elif audio_clip.duration > video_clip.duration:\n",
    "        video_duration = video_clip.duration\n",
    "        audio_duration = audio_clip.duration\n",
    "        audio_clip = audio_clip.subclip(0, video_duration)\n",
    "\n",
    "    video_with_audio = video_clip.set_audio(audio_clip)\n",
    "    video_with_audio.write_videofile(output_path, codec=\"libx264\")\n",
    "    audio_clip.close()\n",
    "    video_clip.close()\n",
    "\n",
    "video_path = video_path\n",
    "audio_output_path = \"/content/audio.wav\"\n",
    "output_video_path = \"/content/output_video_with_audio.mp4\"\n",
    "\n",
    "# Extract audio from video\n",
    "extract_audio(video_path, audio_output_path)\n",
    "\n",
    "# Add audio to final video\n",
    "add_audio_to_video('/content/output_video.mp4', audio_output_path, output_video_path)\n",
    "\n",
    "# Download video with audio\n",
    "from google.colab import files\n",
    "files.download('/content/output_video_with_audio.mp4')"
   ]
  },
  {
   "cell_type": "markdown",
   "id": "33880fe3",
   "metadata": {},
   "source": [
    "---  \n",
    "## ✅ All Done!  \n",
    "> 🥳 Your video has been processed with the swapped face!  \n",
    "> ⏬ Check the output and throw a star if you like it!  \n"
   ]
  }
 ],
 "metadata": {
  "accelerator": "GPU",
  "colab": {
   "gpuType": "T4",
   "provenance": []
  },
  "kernelspec": {
   "display_name": "Python 3",
   "name": "python3"
  },
  "language_info": {
   "name": "python"
  }
 },
 "nbformat": 4,
 "nbformat_minor": 0
}
